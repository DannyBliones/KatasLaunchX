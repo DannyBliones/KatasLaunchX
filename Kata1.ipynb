{
 "cells": [
  {
   "cell_type": "markdown",
   "metadata": {},
   "source": [
    "# Introducción\n"
   ]
  },
  {
   "cell_type": "code",
   "execution_count": 6,
   "metadata": {},
   "outputs": [
    {
     "name": "stdout",
     "output_type": "stream",
     "text": [
      "Today's date is: 2022-02-13\n"
     ]
    }
   ],
   "source": [
    "from datetime import date\n",
    "\n",
    "print(\"Today's date is: \" + str(date.today()))"
   ]
  },
  {
   "cell_type": "code",
   "execution_count": 9,
   "metadata": {},
   "outputs": [
    {
     "name": "stdout",
     "output_type": "stream",
     "text": [
      "Bienvenido a la nave\n",
      "Saludos Danny\n"
     ]
    }
   ],
   "source": [
    "print(\"Bienvenido a la nave\")\n",
    "name = input (\"Escribe tu nombre\")\n",
    "print (\"Saludos \" + name)"
   ]
  },
  {
   "cell_type": "code",
   "execution_count": 34,
   "metadata": {},
   "outputs": [
    {
     "name": "stdout",
     "output_type": "stream",
     "text": [
      "Calculadora\n",
      "7\n"
     ]
    }
   ],
   "source": [
    "print (\"Calculadora\")\n",
    "primer_numero = input (\"coloca el primer numero\")\n",
    "segundo_numero = input (\"coloca el segundo numero\")\n",
    "calcular = (int(primer_numero) + int(segundo_numero))\n",
    "print (calcular)"
   ]
  },
  {
   "cell_type": "markdown",
   "metadata": {},
   "source": [
    "# Kata 1"
   ]
  },
  {
   "cell_type": "code",
   "execution_count": 13,
   "metadata": {},
   "outputs": [
    {
     "name": "stdout",
     "output_type": "stream",
     "text": [
      "Bitacora del día 2022-02-13\n"
     ]
    }
   ],
   "source": [
    "from datetime import date\n",
    "print (\"Bitacora del día \" + str(date.today()))"
   ]
  },
  {
   "cell_type": "code",
   "execution_count": 40,
   "metadata": {},
   "outputs": [
    {
     "name": "stdout",
     "output_type": "stream",
     "text": [
      "Convertidor\n",
      "1 parsec, es 3.26156 lightyears\n"
     ]
    }
   ],
   "source": [
    "print (\"Convertidor\")\n",
    "\n",
    "parsec = input (\"Coloca los parsecs\")\n",
    "lightyears = (3.26156 * float(parsec))\n",
    "print (str (parsec) + \" parsec, es \" + str (lightyears) + \" lightyears\")\n"
   ]
  }
 ],
 "metadata": {
  "interpreter": {
   "hash": "33ea59d61f15ccf2199bbc2f0d59113a37a0114385e7782b2c134b79e22e3b52"
  },
  "kernelspec": {
   "display_name": "Python 3.10.2 64-bit (windows store)",
   "language": "python",
   "name": "python3"
  },
  "language_info": {
   "codemirror_mode": {
    "name": "ipython",
    "version": 3
   },
   "file_extension": ".py",
   "mimetype": "text/x-python",
   "name": "python",
   "nbconvert_exporter": "python",
   "pygments_lexer": "ipython3",
   "version": "3.10.2"
  },
  "orig_nbformat": 4
 },
 "nbformat": 4,
 "nbformat_minor": 2
}
